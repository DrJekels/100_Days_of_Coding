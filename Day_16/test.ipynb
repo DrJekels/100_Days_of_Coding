{
 "metadata": {
  "language_info": {
   "codemirror_mode": {
    "name": "ipython",
    "version": 3
   },
   "file_extension": ".py",
   "mimetype": "text/x-python",
   "name": "python",
   "nbconvert_exporter": "python",
   "pygments_lexer": "ipython3",
   "version": "3.9.2-final"
  },
  "orig_nbformat": 2,
  "kernelspec": {
   "name": "python3",
   "display_name": "Python 3.9.2 64-bit",
   "metadata": {
    "interpreter": {
     "hash": "86d25e3875f4422cc0fc6a835fd97a7d552414e6fe5456a3974272761d269c4a"
    }
   }
  }
 },
 "nbformat": 4,
 "nbformat_minor": 2,
 "cells": [
  {
   "cell_type": "code",
   "execution_count": 1,
   "metadata": {},
   "outputs": [],
   "source": [
    "from menu import Menu, MenuItem\n",
    "from coffee_maker import CoffeeMaker\n",
    "from money_machine import MoneyMachine"
   ]
  },
  {
   "cell_type": "code",
   "execution_count": 7,
   "metadata": {},
   "outputs": [],
   "source": [
    "coffee_machine = CoffeeMaker()\n",
    "cashier = MoneyMachine()\n",
    "menu = Menu()\n",
    "status = True"
   ]
  },
  {
   "cell_type": "code",
   "execution_count": 26,
   "metadata": {},
   "outputs": [
    {
     "output_type": "stream",
     "name": "stdout",
     "text": [
      "Please insert coins.\n",
      "Here is $0.73 in change.\n",
      "Here is your espresso ☕️. Enjoy!\n"
     ]
    }
   ],
   "source": [
    "drink = Menu.find_drink(menu, \"espresso\")\n",
    "if coffee_machine.is_resource_sufficient(drink):\n",
    "    if cashier.make_payment(drink.cost):\n",
    "        coffee_machine.make_coffee(drink)"
   ]
  },
  {
   "cell_type": "code",
   "execution_count": null,
   "metadata": {},
   "outputs": [],
   "source": []
  }
 ]
}